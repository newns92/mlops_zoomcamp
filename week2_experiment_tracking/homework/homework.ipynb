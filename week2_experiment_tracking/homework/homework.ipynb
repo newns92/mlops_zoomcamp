{
 "cells": [
  {
   "cell_type": "code",
   "execution_count": 1,
   "id": "61bf0826",
   "metadata": {},
   "outputs": [],
   "source": [
    "import os\n",
    "import pandas as pd\n",
    "import pickle\n",
    "import seaborn as sns\n",
    "import matplotlib.pyplot as plt\n",
    "\n",
    "from sklearn.feature_extraction import DictVectorizer\n",
    "from sklearn.linear_model import LinearRegression\n",
    "from sklearn.linear_model import Lasso\n",
    "from sklearn.linear_model import Ridge\n",
    "from sklearn.metrics import mean_squared_error\n",
    "\n",
    "import mlflow\n",
    "import xgboost as xgb\n",
    "from hyperopt import fmin, tpe, hp, STATUS_OK, Trials  # metrics\n",
    "from hyperopt.pyll import scope"
   ]
  },
  {
   "cell_type": "markdown",
   "id": "ddc6a0f9",
   "metadata": {},
   "source": [
    "### Question 1"
   ]
  },
  {
   "cell_type": "code",
   "execution_count": 2,
   "id": "541c4ef1",
   "metadata": {
    "scrolled": true
   },
   "outputs": [
    {
     "name": "stdout",
     "output_type": "stream",
     "text": [
      "mlflow, version 2.3.2\n"
     ]
    }
   ],
   "source": [
    "!mlflow --version"
   ]
  },
  {
   "cell_type": "markdown",
   "id": "b3affa1c",
   "metadata": {},
   "source": [
    "### Question 2"
   ]
  },
  {
   "cell_type": "code",
   "execution_count": 3,
   "id": "026943d7",
   "metadata": {},
   "outputs": [
    {
     "name": "stderr",
     "output_type": "stream",
     "text": [
      "--2023-05-17 20:17:38--  https://d37ci6vzurychx.cloudfront.net/trip-data/green_tripdata_2022-01.parquet\n",
      "Resolving d37ci6vzurychx.cloudfront.net (d37ci6vzurychx.cloudfront.net)... 13.224.208.121, 13.224.208.35, 13.224.208.131, ...\n",
      "Connecting to d37ci6vzurychx.cloudfront.net (d37ci6vzurychx.cloudfront.net)|13.224.208.121|:443... connected.\n",
      "HTTP request sent, awaiting response... 200 OK\n",
      "Length: 1254291 (1.2M) [binary/octet-stream]\n",
      "Saving to: './data/green_tripdata_2022-01.parquet'\n",
      "\n",
      "     0K .......... .......... .......... .......... ..........  4% 9.27M 0s\n",
      "    50K .......... .......... .......... .......... ..........  8% 47.6M 0s\n",
      "   100K .......... .......... .......... .......... .......... 12% 18.1M 0s\n",
      "   150K .......... .......... .......... .......... .......... 16% 15.4M 0s\n",
      "   200K .......... .......... .......... .......... .......... 20% 92.7M 0s\n",
      "   250K .......... .......... .......... .......... .......... 24% 23.0M 0s\n",
      "   300K .......... .......... .......... .......... .......... 28% 15.1M 0s\n",
      "   350K .......... .......... .......... .......... .......... 32%  125M 0s\n",
      "   400K .......... .......... .......... .......... .......... 36% 23.1M 0s\n",
      "   450K .......... .......... .......... .......... .......... 40% 25.6M 0s\n",
      "   500K .......... .......... .......... .......... .......... 44% 14.4M 0s\n",
      "   550K .......... .......... .......... .......... .......... 48% 24.8M 0s\n",
      "   600K .......... .......... .......... .......... .......... 53% 25.9M 0s\n",
      "   650K .......... .......... .......... .......... .......... 57% 19.6M 0s\n",
      "   700K .......... .......... .......... .......... .......... 61% 98.8M 0s\n",
      "   750K .......... .......... .......... .......... .......... 65% 35.0M 0s\n",
      "   800K .......... .......... .......... .......... .......... 69% 22.1M 0s\n",
      "   850K .......... .......... .......... .......... .......... 73% 24.8M 0s\n",
      "   900K .......... .......... .......... .......... .......... 77% 25.8M 0s\n",
      "   950K .......... .......... .......... .......... .......... 81% 14.4M 0s\n",
      "  1000K .......... .......... .......... .......... .......... 85% 21.8M 0s\n",
      "  1050K .......... .......... .......... .......... .......... 89% 27.5M 0s\n",
      "  1100K .......... .......... .......... .......... .......... 93%  102M 0s\n",
      "  1150K .......... .......... .......... .......... .......... 97% 21.6M 0s\n",
      "  1200K .......... .......... ....                            100%  140M=0.05s\n",
      "\n",
      "2023-05-17 20:17:38 (23.7 MB/s) - './data/green_tripdata_2022-01.parquet' saved [1254291/1254291]\n",
      "\n",
      "--2023-05-17 20:17:38--  https://d37ci6vzurychx.cloudfront.net/trip-data/green_tripdata_2022-02.parquet\n",
      "Resolving d37ci6vzurychx.cloudfront.net (d37ci6vzurychx.cloudfront.net)... 13.224.208.121, 13.224.208.35, 13.224.208.131, ...\n",
      "Connecting to d37ci6vzurychx.cloudfront.net (d37ci6vzurychx.cloudfront.net)|13.224.208.121|:443... connected.\n",
      "HTTP request sent, awaiting response... 200 OK\n",
      "Length: 1428262 (1.4M) [binary/octet-stream]\n",
      "Saving to: './data/green_tripdata_2022-02.parquet'\n",
      "\n",
      "     0K .......... .......... .......... .......... ..........  3% 9.18M 0s\n",
      "    50K .......... .......... .......... .......... ..........  7% 35.7M 0s\n",
      "   100K .......... .......... .......... .......... .......... 10% 17.8M 0s\n",
      "   150K .......... .......... .......... .......... .......... 14% 24.9M 0s\n",
      "   200K .......... .......... .......... .......... .......... 17% 23.6M 0s\n",
      "   250K .......... .......... .......... .......... .......... 21% 15.0M 0s\n",
      "   300K .......... .......... .......... .......... .......... 25% 22.3M 0s\n",
      "   350K .......... .......... .......... .......... .......... 28% 22.0M 0s\n",
      "   400K .......... .......... .......... .......... .......... 32%  135M 0s\n",
      "   450K .......... .......... .......... .......... .......... 35% 23.9M 0s\n",
      "   500K .......... .......... .......... .......... .......... 39% 25.4M 0s\n",
      "   550K .......... .......... .......... .......... .......... 43% 23.8M 0s\n",
      "   600K .......... .......... .......... .......... .......... 46% 12.7M 0s\n",
      "   650K .......... .......... .......... .......... .......... 50% 22.2M 0s\n",
      "   700K .......... .......... .......... .......... .......... 53%  160M 0s\n",
      "   750K .......... .......... .......... .......... .......... 57% 27.6M 0s\n",
      "   800K .......... .......... .......... .......... .......... 60% 55.6M 0s\n",
      "   850K .......... .......... .......... .......... .......... 64% 15.3M 0s\n",
      "   900K .......... .......... .......... .......... .......... 68% 22.0M 0s\n",
      "   950K .......... .......... .......... .......... .......... 71% 22.0M 0s\n",
      "  1000K .......... .......... .......... .......... .......... 75% 23.1M 0s\n",
      "  1050K .......... .......... .......... .......... .......... 78%  141M 0s\n",
      "  1100K .......... .......... .......... .......... .......... 82% 22.4M 0s\n",
      "  1150K .......... .......... .......... .......... .......... 86% 24.7M 0s\n",
      "  1200K .......... .......... .......... .......... .......... 89% 21.2M 0s\n",
      "  1250K .......... .......... .......... .......... .......... 93% 16.8M 0s\n",
      "  1300K .......... .......... .......... .......... .......... 96% 35.9M 0s\n",
      "  1350K .......... .......... .......... .......... ....      100% 92.4M=0.06s\n",
      "\n",
      "2023-05-17 20:17:38 (23.6 MB/s) - './data/green_tripdata_2022-02.parquet' saved [1428262/1428262]\n",
      "\n",
      "--2023-05-17 20:17:38--  https://d37ci6vzurychx.cloudfront.net/trip-data/green_tripdata_2022-03.parquet\n",
      "Resolving d37ci6vzurychx.cloudfront.net (d37ci6vzurychx.cloudfront.net)... 13.224.208.121, 13.224.208.35, 13.224.208.131, ...\n",
      "Connecting to d37ci6vzurychx.cloudfront.net (d37ci6vzurychx.cloudfront.net)|13.224.208.121|:443... connected.\n",
      "HTTP request sent, awaiting response... 200 OK\n",
      "Length: 1615562 (1.5M) [binary/octet-stream]\n",
      "Saving to: './data/green_tripdata_2022-03.parquet'\n",
      "\n",
      "     0K .......... .......... .......... .......... ..........  3% 10.2M 0s\n",
      "    50K .......... .......... .......... .......... ..........  6% 31.9M 0s\n",
      "   100K .......... .......... .......... .......... ..........  9% 24.5M 0s\n",
      "   150K .......... .......... .......... .......... .......... 12% 10.7M 0s\n",
      "   200K .......... .......... .......... .......... .......... 15% 24.1M 0s\n",
      "   250K .......... .......... .......... .......... .......... 19% 30.4M 0s\n",
      "   300K .......... .......... .......... .......... .......... 22%  110M 0s\n",
      "   350K .......... .......... .......... .......... .......... 25% 12.9M 0s\n",
      "   400K .......... .......... .......... .......... .......... 28% 24.3M 0s\n",
      "   450K .......... .......... .......... .......... .......... 31%  130M 0s\n",
      "   500K .......... .......... .......... .......... .......... 34% 26.6M 0s\n",
      "   550K .......... .......... .......... .......... .......... 38% 27.7M 0s\n",
      "   600K .......... .......... .......... .......... .......... 41% 22.1M 0s\n",
      "   650K .......... .......... .......... .......... .......... 44% 21.3M 0s\n",
      "   700K .......... .......... .......... .......... .......... 47% 22.5M 0s\n",
      "   750K .......... .......... .......... .......... .......... 50% 30.0M 0s\n",
      "   800K .......... .......... .......... .......... .......... 53% 55.2M 0s\n",
      "   850K .......... .......... .......... .......... .......... 57% 10.0M 0s\n",
      "   900K .......... .......... .......... .......... .......... 60% 18.4M 0s\n",
      "   950K .......... .......... .......... .......... .......... 63% 42.4M 0s\n",
      "  1000K .......... .......... .......... .......... .......... 66% 43.0M 0s\n",
      "  1050K .......... .......... .......... .......... .......... 69% 23.7M 0s\n",
      "  1100K .......... .......... .......... .......... .......... 72% 55.6M 0s\n",
      "  1150K .......... .......... .......... .......... .......... 76% 23.4M 0s\n",
      "  1200K .......... .......... .......... .......... .......... 79% 23.3M 0s\n",
      "  1250K .......... .......... .......... .......... .......... 82% 21.5M 0s\n",
      "  1300K .......... .......... .......... .......... .......... 85% 25.7M 0s\n",
      "  1350K .......... .......... .......... .......... .......... 88% 24.3M 0s\n",
      "  1400K .......... .......... .......... .......... .......... 91% 37.6M 0s\n",
      "  1450K .......... .......... .......... .......... .......... 95% 16.8M 0s\n",
      "  1500K .......... .......... .......... .......... .......... 98% 34.1M 0s\n",
      "  1550K .......... .......... .......                         100%  217M=0.06s\n",
      "\n",
      "2023-05-17 20:17:38 (23.8 MB/s) - './data/green_tripdata_2022-03.parquet' saved [1615562/1615562]\n",
      "\n"
     ]
    }
   ],
   "source": [
    "# Make the directory to hold the data if it doesn't exist\n",
    "# https://www.tutorialspoint.com/python/os_makedirs.htm\n",
    "os.makedirs(os.path.dirname('./data/'), mode=0o755, exist_ok=True)\n",
    "\n",
    "# remove files if they are already there, then get files\n",
    "# !rm ./data/yellow_tripdata_2022-01.parquet\n",
    "# !rm ./data/yellow_tripdata_2022-02.parquet\n",
    "\n",
    "# windows\n",
    "# https://www.freecodecamp.org/news/how-to-check-if-a-file-exists-in-python/\n",
    "if os.path.isfile('./data/green_tripdata_2022-01.parquet') and \\\n",
    "    os.path.isfile('./data/green_tripdata_2022-02.parquet') and \\\n",
    "    os.path.isfile('./data/green_tripdata_2022-03.parquet'):\n",
    "        os.remove(\"./data/green_tripdata_2022-01.parquet\")\n",
    "        os.remove(\"./data/green_tripdata_2022-02.parquet\")\n",
    "        os.remove(\"./data/green_tripdata_2022-03.parquet\")\n",
    "    \n",
    "!wget https://d37ci6vzurychx.cloudfront.net/trip-data/green_tripdata_2022-01.parquet -P ./data\n",
    "!wget https://d37ci6vzurychx.cloudfront.net/trip-data/green_tripdata_2022-02.parquet -P ./data\n",
    "!wget https://d37ci6vzurychx.cloudfront.net/trip-data/green_tripdata_2022-03.parquet -P ./data    "
   ]
  },
  {
   "cell_type": "code",
   "execution_count": 4,
   "id": "c5760376",
   "metadata": {},
   "outputs": [],
   "source": [
    "# !dir\n",
    "!python preprocess_data.py --raw_data_path ./data --dest_path ./output"
   ]
  },
  {
   "cell_type": "code",
   "execution_count": 5,
   "id": "a81039d0",
   "metadata": {},
   "outputs": [
    {
     "name": "stdout",
     "output_type": "stream",
     "text": [
      " Volume in drive C has no label.\n",
      " Volume Serial Number is 08A3-CF2D\n",
      "\n",
      " Directory of C:\\Users\\nimz\\Documents\\mlops_zoomcamp\\week2_experiment_tracking\\homework\\output\n",
      "\n",
      "05/17/2023  08:07 PM    <DIR>          .\n",
      "05/17/2023  08:07 PM    <DIR>          ..\n",
      "05/17/2023  08:17 PM           153,660 dv.pkl\n",
      "05/17/2023  08:17 PM         2,632,817 test.pkl\n",
      "05/17/2023  08:17 PM         2,146,163 train.pkl\n",
      "05/17/2023  08:17 PM         2,336,393 val.pkl\n",
      "               4 File(s)      7,269,033 bytes\n",
      "               2 Dir(s)  360,015,130,624 bytes free\n"
     ]
    }
   ],
   "source": [
    "!dir output"
   ]
  },
  {
   "cell_type": "markdown",
   "id": "8e4bcd7c",
   "metadata": {},
   "source": [
    "### Question 3"
   ]
  },
  {
   "cell_type": "code",
   "execution_count": 6,
   "id": "898e71f4",
   "metadata": {},
   "outputs": [],
   "source": [
    "# !mlflow ui --backend-store-uri sqlite:///mlflow.db"
   ]
  },
  {
   "cell_type": "code",
   "execution_count": 7,
   "id": "63d65f6a",
   "metadata": {},
   "outputs": [
    {
     "data": {
      "text/plain": [
       "<Experiment: artifact_location='file:///C:/Users/nimz/Documents/mlops_zoomcamp/week2_experiment_tracking/homework/mlruns/1', creation_time=1684368721173, experiment_id='1', last_update_time=1684368721173, lifecycle_stage='active', name='nyc_taxi_homework_week2', tags={}>"
      ]
     },
     "execution_count": 7,
     "metadata": {},
     "output_type": "execute_result"
    }
   ],
   "source": [
    "# set the MLFlow URI to our backend\n",
    "mlflow.set_tracking_uri('sqlite:///mlflow.db')\n",
    "\n",
    "# set up to assign/append runs to our experiment (and create if it doesn't exist)\n",
    "mlflow.set_experiment('nyc_taxi_homework_week2')"
   ]
  },
  {
   "cell_type": "code",
   "execution_count": 9,
   "id": "7e4107dc",
   "metadata": {},
   "outputs": [],
   "source": [
    "# def run_train(data_path: str):\n",
    "#     # set the MLFlow URI to our backend\n",
    "#     mlflow.set_tracking_uri('sqlite:///mlflow.db')\n",
    "\n",
    "#     # set up to assign/append runs to our experiment (and create if it doesn't exist)\n",
    "#     mlflow.set_experiment('nyc_taxi_homework_week2')    \n",
    "    \n",
    "#     # Turn on autologging\n",
    "#     # https://mlflow.org/docs/latest/tracking.html#automatic-logging\n",
    "#     # https://mlflow.org/docs/latest/python_api/mlflow.xgboost.html#mlflow.xgboost.autolog\n",
    "#     mlflow.sklearn.autolog()\n",
    "\n",
    "#     with mlflow.start_run():\n",
    "#         X_train, y_train = load_pickle(os.path.join(data_path, \"train.pkl\"))\n",
    "#         X_val, y_val = load_pickle(os.path.join(data_path, \"val.pkl\"))\n",
    "\n",
    "#         rf = RandomForestRegressor(max_depth=10, random_state=0)\n",
    "#         rf.fit(X_train, y_train)\n",
    "#         y_pred = rf.predict(X_val)\n",
    "\n",
    "#         rmse = mean_squared_error(y_val, y_pred, squared=False)\n",
    "#         print(f'RMSE: {rmse}')"
   ]
  },
  {
   "cell_type": "code",
   "execution_count": 15,
   "id": "2d74e284",
   "metadata": {},
   "outputs": [
    {
     "name": "stdout",
     "output_type": "stream",
     "text": [
      "RMSE: 2.453983836538874\n"
     ]
    },
    {
     "name": "stderr",
     "output_type": "stream",
     "text": [
      "2023/05/17 20:26:51 WARNING mlflow.utils.autologging_utils: MLflow autologging encountered a warning: \"C:\\Users\\nimz\\.conda\\envs\\zoom\\lib\\site-packages\\_distutils_hack\\__init__.py:33: UserWarning: Setuptools is replacing distutils.\"\n"
     ]
    }
   ],
   "source": [
    "!python train.py --data_path ./output"
   ]
  },
  {
   "cell_type": "markdown",
   "id": "c685eaca",
   "metadata": {},
   "source": [
    "### Question 4"
   ]
  },
  {
   "cell_type": "code",
   "execution_count": 3,
   "id": "ae962463",
   "metadata": {},
   "outputs": [],
   "source": [
    "# updated objective function\n",
    "def objective(trial):\n",
    "    with mlflow.start_run():\n",
    "        params = {\n",
    "            'n_estimators': trial.suggest_int('n_estimators', 10, 50, 1),\n",
    "            'max_depth': trial.suggest_int('max_depth', 1, 20, 1),\n",
    "            'min_samples_split': trial.suggest_int('min_samples_split', 2, 10, 1),\n",
    "            'min_samples_leaf': trial.suggest_int('min_samples_leaf', 1, 4, 1),\n",
    "            'random_state': 42,\n",
    "            'n_jobs': -1\n",
    "        }\n",
    "\n",
    "        # log parameters\n",
    "        mlflow.log_params(params)\n",
    "\n",
    "        rf = RandomForestRegressor(**params)\n",
    "        rf.fit(X_train, y_train)\n",
    "        y_pred = rf.predict(X_val)\n",
    "        rmse = mean_squared_error(y_val, y_pred, squared=False)\n",
    "        # Log RMSE metric\n",
    "        mlflow.log_metric('rmse', rmse)\n",
    "\n",
    "        return rmse"
   ]
  },
  {
   "cell_type": "markdown",
   "id": "73f2bd93",
   "metadata": {},
   "source": [
    "#### Check http://127.0.0.1:5000/#/experiments/ for random-forest-hyperopt experiment to see the RMSE values for 10 runs"
   ]
  },
  {
   "cell_type": "code",
   "execution_count": null,
   "id": "fee44c0f",
   "metadata": {},
   "outputs": [],
   "source": []
  }
 ],
 "metadata": {
  "kernelspec": {
   "display_name": "Python [conda env:.conda-zoom]",
   "language": "python",
   "name": "conda-env-.conda-zoom-py"
  },
  "language_info": {
   "codemirror_mode": {
    "name": "ipython",
    "version": 3
   },
   "file_extension": ".py",
   "mimetype": "text/x-python",
   "name": "python",
   "nbconvert_exporter": "python",
   "pygments_lexer": "ipython3",
   "version": "3.9.16"
  }
 },
 "nbformat": 4,
 "nbformat_minor": 5
}
