{
 "cells": [
  {
   "cell_type": "markdown",
   "id": "1d6c0496",
   "metadata": {},
   "source": [
    "## Data\n",
    "- We will be using NYC taxi data\n",
    "- These have recently been changed to **parquet** files\n",
    "- We will be using Pandas to read this data in via `pd.read_parquet()` command\n",
    "    - This requires instaling PyArrow via `pip install pyarrow` on the VM\n",
    "    - Also potentiall have to `pip install seaborn` and `pip install scikit-learn`\n",
    "- Download the Green January and February 2021 parquet data file via `wget https://d37ci6vzurychx.cloudfront.net/trip-data/green_tripdata_2021-01.parquet` and `wget https://d37ci6vzurychx.cloudfront.net/trip-data/green_tripdata_2021-02.parquet`"
   ]
  },
  {
   "cell_type": "code",
   "execution_count": 1,
   "id": "57e33f91",
   "metadata": {},
   "outputs": [],
   "source": [
    "import os\n",
    "import pandas as pd\n",
    "import pickle\n",
    "import seaborn as sns\n",
    "import matplotlib.pyplot as plt\n",
    "\n",
    "from sklearn.feature_extraction import DictVectorizer\n",
    "from sklearn.linear_model import LinearRegression\n",
    "from sklearn.linear_model import Lasso\n",
    "from sklearn.linear_model import Ridge\n",
    "from sklearn.metrics import mean_squared_error\n",
    "from sklearn.ensemble import RandomForestRegressor, GradientBoostingRegressor, ExtraTreesRegressor\n",
    "from sklearn.svm import LinearSVR\n",
    "\n",
    "import mlflow\n",
    "import xgboost as xgb\n",
    "from hyperopt import fmin, tpe, hp, STATUS_OK, Trials  # metrics\n",
    "from hyperopt.pyll import scope\n",
    "\n",
    "from config import mlflow_model_uri"
   ]
  },
  {
   "cell_type": "code",
   "execution_count": 2,
   "id": "cee5dd9e",
   "metadata": {},
   "outputs": [],
   "source": [
    "# FIRST START THE UI ON THE COMMAND LINE WHILE IN THE WEEK 2 DIRECTORY VIA\n",
    "# !mlflow ui --backend-store-uri sqlite:///mlflow.db\n",
    "\n",
    "# THEN OPEN THE UI AT http://127.0.0.1:5000"
   ]
  },
  {
   "cell_type": "code",
   "execution_count": 3,
   "id": "d7009801",
   "metadata": {},
   "outputs": [
    {
     "data": {
      "text/plain": [
       "<Experiment: artifact_location='file:///C:/Users/nimz/Documents/mlops_zoomcamp/week2_experiment_tracking/mlruns/1', creation_time=1684358646144, experiment_id='1', last_update_time=1684358646144, lifecycle_stage='active', name='nyc_taxi_experiment_1', tags={}>"
      ]
     },
     "execution_count": 3,
     "metadata": {},
     "output_type": "execute_result"
    }
   ],
   "source": [
    "# set the MLFlow URI to our backend\n",
    "mlflow.set_tracking_uri('sqlite:///mlflow.db')\n",
    "\n",
    "# set up to assign/append runs to our experiment (and create if it doesn't exist)\n",
    "mlflow.set_experiment('nyc_taxi_experiment_1')"
   ]
  },
  {
   "cell_type": "markdown",
   "id": "788f3ea8",
   "metadata": {},
   "source": [
    "## 1. Load, inspect, and clean data"
   ]
  },
  {
   "cell_type": "code",
   "execution_count": 4,
   "id": "ecbec7f4",
   "metadata": {},
   "outputs": [],
   "source": [
    "# create helper function to read and clean data\n",
    "def read_dataframe(filename):\n",
    "    if filename.endswith('.csv'):\n",
    "        df = pd.read_csv(filename)\n",
    "        \n",
    "        # do some data conversion if CSV\n",
    "        df.lpep_dropoff_datetime = pd.to_datetime(df.lpep_dropoff_datetime)\n",
    "        df.lpep_pickup_datetime = pd.to_datetime(df.lpep_pickup_datetime)\n",
    "        \n",
    "    elif filename.endswith('.parquet'):\n",
    "        df = pd.read_parquet(filename)\n",
    "    \n",
    "    # create duration in minutes column\n",
    "    df['duration'] = df.lpep_dropoff_datetime - df.lpep_pickup_datetime\n",
    "    df.duration = df.duration.apply(lambda td: td.total_seconds() / 60)\n",
    "    \n",
    "    # filter to only trips between 1 minute and 1 hour\n",
    "    df = df[(df.duration >= 1) & (df.duration <= 60)]\n",
    "    \n",
    "    # specify categorical input features and convert to String\n",
    "    # for one-hot encoding via Dictionary Vectorizer\n",
    "    categorical = ['PULocationID', 'DOLocationID']\n",
    "    df[categorical] = df[categorical].astype(str)\n",
    "    \n",
    "    return df"
   ]
  },
  {
   "cell_type": "code",
   "execution_count": 5,
   "id": "25b310ae",
   "metadata": {},
   "outputs": [
    {
     "data": {
      "text/plain": [
       "(73908, 61921)"
      ]
     },
     "execution_count": 5,
     "metadata": {},
     "output_type": "execute_result"
    }
   ],
   "source": [
    "# create DataFrames for training and validation\n",
    "df_train = read_dataframe('./data/green_tripdata_2021-01.parquet')\n",
    "df_val = read_dataframe('./data/green_tripdata_2021-02.parquet')\n",
    "\n",
    "# see how many samples we have\n",
    "len(df_train), len(df_val)"
   ]
  },
  {
   "cell_type": "code",
   "execution_count": 6,
   "id": "ad2ceab0",
   "metadata": {},
   "outputs": [],
   "source": [
    "# create a feature combining pickup and drop-off locations (feature engineering)\n",
    "df_train['PU_DO'] = df_train['PULocationID'] + '_' + df_train['DOLocationID']\n",
    "df_val['PU_DO'] = df_val['PULocationID'] + '_' + df_val['DOLocationID']"
   ]
  },
  {
   "cell_type": "code",
   "execution_count": 7,
   "id": "05f5bf66",
   "metadata": {},
   "outputs": [],
   "source": [
    "# specify our input features\n",
    "categorical = ['PU_DO'] #'PULocationID', 'DOLocationID']\n",
    "numerical = ['trip_distance']"
   ]
  },
  {
   "cell_type": "markdown",
   "id": "15a2870b",
   "metadata": {},
   "source": [
    "## 2. Create training and validation sets"
   ]
  },
  {
   "cell_type": "code",
   "execution_count": 8,
   "id": "6f72d8b1",
   "metadata": {},
   "outputs": [],
   "source": [
    "# create training and validation input feature sets\n",
    "dv = DictVectorizer()\n",
    "\n",
    "# turn each row into dictionary and create the training set\n",
    "train_dicts = df_train[categorical + numerical].to_dict(orient='records')\n",
    "X_train = dv.fit_transform(train_dicts)\n",
    "\n",
    "# turn each row into dictionary and create the validation set\n",
    "val_dicts = df_val[categorical + numerical].to_dict(orient='records')\n",
    "X_val = dv.transform(val_dicts)"
   ]
  },
  {
   "cell_type": "code",
   "execution_count": 9,
   "id": "ca9b9f3c",
   "metadata": {},
   "outputs": [],
   "source": [
    "# create training and validation label sets\n",
    "target = 'duration'\n",
    "y_train = df_train[target].values\n",
    "y_val = df_val[target].values"
   ]
  },
  {
   "cell_type": "markdown",
   "id": "fda20451",
   "metadata": {},
   "source": [
    "## 3. MLFLow Model Management\n",
    "\n",
    "**Add more models to further explore the MFLow Model Registry**"
   ]
  },
  {
   "cell_type": "code",
   "execution_count": 11,
   "id": "3e9e853d",
   "metadata": {},
   "outputs": [
    {
     "name": "stdout",
     "output_type": "stream",
     "text": [
      "Running model RandomForestRegressor()\n",
      "Training model RandomForestRegressor()...\n"
     ]
    },
    {
     "name": "stderr",
     "output_type": "stream",
     "text": [
      "2023/05/19 20:49:27 WARNING mlflow.utils.autologging_utils: MLflow autologging encountered a warning: \"C:\\Users\\nimz\\.conda\\envs\\zoom\\lib\\site-packages\\_distutils_hack\\__init__.py:33: UserWarning: Setuptools is replacing distutils.\"\n"
     ]
    },
    {
     "name": "stdout",
     "output_type": "stream",
     "text": [
      "Making predictions with RandomForestRegressor() model...\n",
      "Gettint error with RandomForestRegressor() model...\n",
      "Running model GradientBoostingRegressor()\n",
      "Training model GradientBoostingRegressor()...\n",
      "Making predictions with GradientBoostingRegressor() model...\n",
      "Gettint error with GradientBoostingRegressor() model...\n",
      "Running model ExtraTreesRegressor()\n",
      "Training model ExtraTreesRegressor()...\n",
      "Making predictions with ExtraTreesRegressor() model...\n",
      "Gettint error with ExtraTreesRegressor() model...\n",
      "Running model LinearSVR()\n",
      "Training model LinearSVR()...\n"
     ]
    },
    {
     "name": "stderr",
     "output_type": "stream",
     "text": [
      "C:\\Users\\nimz\\.conda\\envs\\zoom\\lib\\site-packages\\sklearn\\svm\\_base.py:1244: ConvergenceWarning: Liblinear failed to converge, increase the number of iterations.\n",
      "  warnings.warn(\n"
     ]
    },
    {
     "name": "stdout",
     "output_type": "stream",
     "text": [
      "Making predictions with LinearSVR() model...\n",
      "Gettint error with LinearSVR() model...\n"
     ]
    }
   ],
   "source": [
    "# # turn on autologging\n",
    "# mlflow.sklearn.autolog()\n",
    "\n",
    "# # loop through a set of models to train on the same data for future model comparison and registering\n",
    "# for model_class in (RandomForestRegressor, GradientBoostingRegressor, ExtraTreesRegressor, LinearSVR):\n",
    "    \n",
    "#     # make sure each training session is an experiment run\n",
    "#     with mlflow.start_run():\n",
    "        \n",
    "#         # log some stuff\n",
    "#         mlflow.log_param(\"train-data-path\", \"./data/green_tripdata_2021-01.parquet\")\n",
    "#         mlflow.log_param(\"valid-data-path\", \"./data/green_tripdata_2021-02.parquet\")\n",
    "#         mlflow.log_artifact(\"models/preprocessor.b\", artifact_path=\"preprocessor\")\n",
    "\n",
    "#         # train the model\n",
    "#         mlmodel = model_class()\n",
    "#         print(f'Running model {mlmodel}')\n",
    "        \n",
    "#         print(f'Training model {mlmodel}...')\n",
    "#         mlmodel.fit(X_train, y_train)\n",
    "\n",
    "#         # make predictions\n",
    "#         print(f'Making predictions with {mlmodel} model...')\n",
    "#         y_pred = mlmodel.predict(X_val)\n",
    "        \n",
    "#         # get the error and log it\n",
    "#         print(f'Getting error with {mlmodel} model...')\n",
    "#         rmse = mean_squared_error(y_val, y_pred, squared=False)\n",
    "#         mlflow.log_metric(\"rmse\", rmse)"
   ]
  },
  {
   "cell_type": "markdown",
   "id": "2d7e1c21",
   "metadata": {},
   "source": [
    "## 4. MLFlow Client"
   ]
  },
  {
   "cell_type": "code",
   "execution_count": 10,
   "id": "13df79f0",
   "metadata": {},
   "outputs": [],
   "source": [
    "import mlflow\n",
    "from mlflow.tracking import MlflowClient\n",
    "from mlflow.entities import ViewType\n",
    "\n",
    "from datetime import datetime\n",
    "\n",
    "import pandas as pd\n",
    "from sklearn.metrics import mean_squared_error\n",
    "\n",
    "import pickle"
   ]
  },
  {
   "cell_type": "markdown",
   "id": "f901bb5a",
   "metadata": {},
   "source": [
    "#### Interacting with the MLflow tracking server\n",
    "\n",
    "The `MlflowClient` object allows us to interact with:\n",
    "- An MLflow **Tracking Server** that creates and manages *experiments* and *runs*\n",
    "- An MLflow **Registry Server** that creates and manages *registered models* and *model versions*"
   ]
  },
  {
   "cell_type": "code",
   "execution_count": 13,
   "id": "25b1bcb9",
   "metadata": {},
   "outputs": [
    {
     "data": {
      "text/plain": [
       "[<Experiment: artifact_location='file:///C:/Users/nimz/Documents/mlops_zoomcamp/week2_experiment_tracking/mlruns/1', creation_time=1684358646144, experiment_id='1', last_update_time=1684358646144, lifecycle_stage='active', name='nyc_taxi_experiment_1', tags={}>,\n",
       " <Experiment: artifact_location='mlflow-artifacts:/0', creation_time=1684357861329, experiment_id='0', last_update_time=1684357861329, lifecycle_stage='active', name='Default', tags={}>]"
      ]
     },
     "execution_count": 13,
     "metadata": {},
     "output_type": "execute_result"
    }
   ],
   "source": [
    "# To instantiate it we need to pass a tracking URI and/or a registry URI\n",
    "# set the Tracking URI\n",
    "MLFLOW_TRACKING_URI = \"sqlite:///mlflow.db\"\n",
    "\n",
    "# instantiate the object\n",
    "client = MlflowClient(tracking_uri=MLFLOW_TRACKING_URI)\n",
    "\n",
    "# list out all the experiments from the MLFlow Client as of right now\n",
    "# client.list_experiments()  # DEPRECATED\n",
    "\n",
    "# look for ALL (view_type=3) experiments\n",
    "# https://mlflow.org/docs/latest/python_api/mlflow.client.html#mlflow.client.MlflowClient.search_experiments\n",
    "client.search_experiments(view_type=3)"
   ]
  },
  {
   "cell_type": "code",
   "execution_count": 14,
   "id": "18e46cf0",
   "metadata": {},
   "outputs": [
    {
     "data": {
      "text/plain": [
       "'2'"
      ]
     },
     "execution_count": 14,
     "metadata": {},
     "output_type": "execute_result"
    }
   ],
   "source": [
    "# create a new experiment\n",
    "client.create_experiment(name=\"my-test-experiment\")"
   ]
  },
  {
   "cell_type": "markdown",
   "id": "5c7345b3",
   "metadata": {},
   "source": [
    "**The above result is the ID of the new experiment, which you can see at http://127.0.0.1:5000/#/experiments/**"
   ]
  },
  {
   "cell_type": "code",
   "execution_count": 18,
   "id": "a04af36b",
   "metadata": {},
   "outputs": [],
   "source": [
    "# check the latest AND BEST (in terms of RMSE) versions for the experiment with id = 1\n",
    "# show 5 runs for this experiment ID, filtered for a specific RMSE range for\n",
    "#   runs that are active, ordered by RMSE\n",
    "runs = client.search_runs(\n",
    "    experiment_ids='1',\n",
    "    filter_string=\"metrics.rmse < 7\",\n",
    "    run_view_type=ViewType.ACTIVE_ONLY,\n",
    "    max_results=5,\n",
    "    order_by=[\"metrics.rmse ASC\"]\n",
    ")"
   ]
  },
  {
   "cell_type": "code",
   "execution_count": 20,
   "id": "e3033c0e",
   "metadata": {},
   "outputs": [
    {
     "data": {
      "text/plain": [
       "<Run: data=<RunData: metrics={'rmse': 6.296879486713688}, params={'learning_rate': '0.13642747972651512',\n",
       " 'max_depth': '21',\n",
       " 'min_child_weight': '1.5655550191042376',\n",
       " 'objective': 'reg:linear',\n",
       " 'reg_alpha': '0.009403472263570046',\n",
       " 'reg_lambda': '0.005322134643445022',\n",
       " 'seed': '42'}, tags={'mlflow.log-model.history': '[{\"run_id\": \"d4535c4d635f4305940cfbd71b0eb91a\", '\n",
       "                             '\"artifact_path\": \"models_mlflow\", '\n",
       "                             '\"utc_time_created\": \"2023-05-17 '\n",
       "                             '23:18:09.589669\", \"flavors\": {\"python_function\": '\n",
       "                             '{\"loader_module\": \"mlflow.xgboost\", '\n",
       "                             '\"python_version\": \"3.9.16\", \"data\": \"model.xgb\", '\n",
       "                             '\"env\": {\"conda\": \"conda.yaml\", \"virtualenv\": '\n",
       "                             '\"python_env.yaml\"}}, \"xgboost\": {\"xgb_version\": '\n",
       "                             '\"1.7.5\", \"data\": \"model.xgb\", \"model_class\": '\n",
       "                             '\"xgboost.core.Booster\", \"model_format\": \"xgb\", '\n",
       "                             '\"code\": null}}, \"model_uuid\": '\n",
       "                             '\"2b35e1349b9e487a86a16ee14bccedae\", '\n",
       "                             '\"mlflow_version\": \"2.3.2\"}]',\n",
       " 'mlflow.runName': 'merciful-koi-344',\n",
       " 'mlflow.source.name': 'C:\\\\Users\\\\nimz\\\\.conda\\\\envs\\\\zoom\\\\lib\\\\site-packages\\\\ipykernel_launcher.py',\n",
       " 'mlflow.source.type': 'LOCAL',\n",
       " 'mlflow.user': 'nimz'}>, info=<RunInfo: artifact_uri='file:///C:/Users/nimz/Documents/mlops_zoomcamp/week2_experiment_tracking/mlruns/1/d4535c4d635f4305940cfbd71b0eb91a/artifacts', end_time=1684365493229, experiment_id='1', lifecycle_stage='active', run_id='d4535c4d635f4305940cfbd71b0eb91a', run_name='merciful-koi-344', run_uuid='d4535c4d635f4305940cfbd71b0eb91a', start_time=1684365458099, status='FINISHED', user_id='nimz'>>"
      ]
     },
     "execution_count": 20,
     "metadata": {},
     "output_type": "execute_result"
    }
   ],
   "source": [
    "# the above returns a list of runs\n",
    "runs[0]"
   ]
  },
  {
   "cell_type": "code",
   "execution_count": 21,
   "id": "a494b052",
   "metadata": {},
   "outputs": [
    {
     "name": "stdout",
     "output_type": "stream",
     "text": [
      "Run id: d4535c4d635f4305940cfbd71b0eb91a, rmse: 6.2969\n",
      "Run id: 445337b1adb94550ad6afc5e63987194, rmse: 6.2969\n",
      "Run id: dcdc2317771246e2ab3f934f726f9e1f, rmse: 6.3052\n",
      "Run id: bdec3badd6d040d686368344b9443db4, rmse: 6.3084\n",
      "Run id: e679ce9c68034a44bf967cc8b084e25b, rmse: 6.3246\n"
     ]
    }
   ],
   "source": [
    "# print out some info for the runs, like the run ID and the RMSE of the run\n",
    "for run in runs:\n",
    "    print(f\"Run id: {run.info.run_id}, rmse: {run.data.metrics['rmse']:.4f}\")"
   ]
  },
  {
   "cell_type": "markdown",
   "id": "96c76004",
   "metadata": {},
   "source": [
    "### 5. MLFlow Model Registry\n",
    "\n",
    "We can use the `MlflowClient` instance to:\n",
    "- Register a new version for an experiment that we will name `nyc-taxi-regressor`\n",
    "- Retrieve the latest versions of the model `nyc-taxi-regressor` and check that a new version (v4) was created\n",
    "- Transition model v4 to \"Staging\" and add annotations to it"
   ]
  },
  {
   "cell_type": "code",
   "execution_count": 22,
   "id": "97f24cc7",
   "metadata": {},
   "outputs": [
    {
     "name": "stderr",
     "output_type": "stream",
     "text": [
      "Registered model 'nyc-taxi-regressor' already exists. Creating a new version of this model...\n",
      "2023/05/28 19:49:52 INFO mlflow.tracking._model_registry.client: Waiting up to 300 seconds for model version to finish creation. Model name: nyc-taxi-regressor, version 1\n",
      "Created version '1' of model 'nyc-taxi-regressor'.\n"
     ]
    },
    {
     "data": {
      "text/plain": [
       "<ModelVersion: aliases=[], creation_timestamp=1685317792828, current_stage='None', description=None, last_updated_timestamp=1685317792828, name='nyc-taxi-regressor', run_id='d4535c4d635f4305940cfbd71b0eb91a', run_link=None, source='file:///C:/Users/nimz/Documents/mlops_zoomcamp/week2_experiment_tracking/mlruns/1/d4535c4d635f4305940cfbd71b0eb91a/artifacts/model', status='READY', status_message=None, tags={}, user_id=None, version=1>"
      ]
     },
     "execution_count": 22,
     "metadata": {},
     "output_type": "execute_result"
    }
   ],
   "source": [
    "# set the tracking URI (again) for MLFlow this time, not the Client\n",
    "# or else it will look for the model in the local directory\n",
    "mlflow.set_tracking_uri(MLFLOW_TRACKING_URI)\n",
    "\n",
    "# take one of the above run ID's, get that model (via its URI), and \n",
    "#   register it as an `nyc-taxi-regressor`\n",
    "model_name = 'nyc-taxi-regressor'\n",
    "run_id = 'd4535c4d635f4305940cfbd71b0eb91a'\n",
    "model_uri = f'runs:/{run_id}/model'\n",
    "mlflow.register_model(model_uri=model_uri, name=model_name)"
   ]
  },
  {
   "cell_type": "markdown",
   "id": "a8204ff2",
   "metadata": {},
   "source": [
    "#### After the above is run, go to http://127.0.0.1:5000/#/models to see that the model was indeed registered"
   ]
  },
  {
   "cell_type": "code",
   "execution_count": 26,
   "id": "6f0467f5",
   "metadata": {},
   "outputs": [],
   "source": [
    "# # check the list of registered models\n",
    "# client.list_registered_models()  # DEPRECATED"
   ]
  },
  {
   "cell_type": "code",
   "execution_count": 23,
   "id": "563e0f46",
   "metadata": {},
   "outputs": [
    {
     "name": "stdout",
     "output_type": "stream",
     "text": [
      "Model version: 1, Stage: None\n"
     ]
    }
   ],
   "source": [
    "# get the latest version of the model and look at what Stage each is in\n",
    "latest_versions = client.get_latest_versions(name=model_name)\n",
    "\n",
    "for version in latest_versions:\n",
    "    print(f\"Model version: {version.version}, Stage: {version.current_stage}\")"
   ]
  },
  {
   "cell_type": "code",
   "execution_count": 28,
   "id": "db2980ab",
   "metadata": {},
   "outputs": [
    {
     "data": {
      "text/plain": [
       "<ModelVersion: aliases=[], creation_timestamp=1685317792828, current_stage='Staging', description=None, last_updated_timestamp=1685318225747, name='nyc-taxi-regressor', run_id='d4535c4d635f4305940cfbd71b0eb91a', run_link=None, source='file:///C:/Users/nimz/Documents/mlops_zoomcamp/week2_experiment_tracking/mlruns/1/d4535c4d635f4305940cfbd71b0eb91a/artifacts/model', status='READY', status_message=None, tags={}, user_id=None, version=1>"
      ]
     },
     "execution_count": 28,
     "metadata": {},
     "output_type": "execute_result"
    }
   ],
   "source": [
    "# select v1 of our model\n",
    "model_version = 1\n",
    "new_stage = \"Staging\"\n",
    "\n",
    "# move the v1 model we just registered to Staging\n",
    "client.transition_model_version_stage(\n",
    "    name=model_name,\n",
    "    version=model_version,\n",
    "    stage=new_stage,\n",
    "    archive_existing_versions=False\n",
    ")"
   ]
  },
  {
   "cell_type": "markdown",
   "id": "88e4a2b0",
   "metadata": {},
   "source": [
    "#### Now refresh http://127.0.0.1:5000/#/models, and see that the v1 model is tagged as \"Staging\""
   ]
  },
  {
   "cell_type": "code",
   "execution_count": 29,
   "id": "6576bf98",
   "metadata": {},
   "outputs": [
    {
     "data": {
      "text/plain": [
       "<ModelVersion: aliases=[], creation_timestamp=1685317792828, current_stage='Staging', description='The model version 1 was transitioned to Staging on 2023-05-28', last_updated_timestamp=1685318708015, name='nyc-taxi-regressor', run_id='d4535c4d635f4305940cfbd71b0eb91a', run_link=None, source='file:///C:/Users/nimz/Documents/mlops_zoomcamp/week2_experiment_tracking/mlruns/1/d4535c4d635f4305940cfbd71b0eb91a/artifacts/model', status='READY', status_message=None, tags={}, user_id=None, version=1>"
      ]
     },
     "execution_count": 29,
     "metadata": {},
     "output_type": "execute_result"
    }
   ],
   "source": [
    "# update the v1 model to be in a new Stage and show what date that it happened on\n",
    "date = datetime.today().date()\n",
    "\n",
    "client.update_model_version(\n",
    "    name=model_name,\n",
    "    version=model_version,\n",
    "    description=f\"The model version {model_version} was transitioned to {new_stage} on {date}\"\n",
    ")"
   ]
  },
  {
   "cell_type": "markdown",
   "id": "fb17ee7e",
   "metadata": {},
   "source": [
    "#### Should now see a description at http://127.0.0.1:5000/#/models/nyc-taxi-regressor/versions/1"
   ]
  },
  {
   "cell_type": "markdown",
   "id": "46ad519d",
   "metadata": {},
   "source": [
    "### 6. Comparing Versions to Selecting a New \"Production\" Model\n",
    "\n",
    "Now, we will retrieve models registered in the model registry and compare their performance *on an unseen test set*\n",
    "- The idea is to simulate the scenario in which a deployment engineer has to interact with the model registry to decide whether to update the model version that is in PROD or not\n",
    "\n",
    "These are the steps:\n",
    "- Load the test dataset (March 2021 NYC Green Taxi data)\n",
    "- Download the `DictVectorizer` that was fitted using the training data and saved to MLflow as an artifact, and load it with `pickle`\n",
    "- Preprocess the test set using the `DictVectorizer` so we can properly feed the regressors\n",
    "- Make predictions on the test set using the model versions that are currently in the \"Staging\" and \"Production\" stages, and compare their performance\n",
    "- Based on the results, update the \"Production\" model version accordingly.\n",
    "- **NOTE**: *The model registry doesn't actually deploy the model to production when you transition a model to the \"Production\" stage*, it just **assigns a label** to that model version \n",
    "    - You should **complement the registry with some CI/CD code that does the actual deployment**"
   ]
  },
  {
   "cell_type": "code",
   "execution_count": 30,
   "id": "492b4a25",
   "metadata": {},
   "outputs": [
    {
     "name": "stderr",
     "output_type": "stream",
     "text": [
      "Registered model 'nyc-taxi-regressor' already exists. Creating a new version of this model...\n",
      "2023/05/28 20:10:10 INFO mlflow.tracking._model_registry.client: Waiting up to 300 seconds for model version to finish creation. Model name: nyc-taxi-regressor, version 2\n",
      "Created version '2' of model 'nyc-taxi-regressor'.\n",
      "Registered model 'nyc-taxi-regressor' already exists. Creating a new version of this model...\n",
      "2023/05/28 20:10:10 INFO mlflow.tracking._model_registry.client: Waiting up to 300 seconds for model version to finish creation. Model name: nyc-taxi-regressor, version 3\n",
      "Created version '3' of model 'nyc-taxi-regressor'.\n"
     ]
    },
    {
     "data": {
      "text/plain": [
       "<ModelVersion: aliases=[], creation_timestamp=1685319010516, current_stage='None', description=None, last_updated_timestamp=1685319010516, name='nyc-taxi-regressor', run_id='e679ce9c68034a44bf967cc8b084e25b', run_link=None, source='file:///C:/Users/nimz/Documents/mlops_zoomcamp/week2_experiment_tracking/mlruns/1/e679ce9c68034a44bf967cc8b084e25b/artifacts/model', status='READY', status_message=None, tags={}, user_id=None, version=3>"
      ]
     },
     "execution_count": 30,
     "metadata": {},
     "output_type": "execute_result"
    }
   ],
   "source": [
    "# first register some more models for comparisons\n",
    "# set the tracking URI (again) for MLFlow this time, not the Client\n",
    "# or else it will look for the model in the local directory\n",
    "mlflow.set_tracking_uri(MLFLOW_TRACKING_URI)\n",
    "\n",
    "# take one of the above run ID's, get that model (via its URI), and \n",
    "#   register it as an `nyc-taxi-regressor`\n",
    "model_name = 'nyc-taxi-regressor'\n",
    "run_id = 'dcdc2317771246e2ab3f934f726f9e1f'\n",
    "model_uri = f'runs:/{run_id}/model'\n",
    "mlflow.register_model(model_uri=model_uri, name=model_name)\n",
    "\n",
    "# take one of the above run ID's, get that model (via its URI), and \n",
    "#   register it as an `nyc-taxi-regressor`\n",
    "model_name = 'nyc-taxi-regressor'\n",
    "run_id = 'e679ce9c68034a44bf967cc8b084e25b'\n",
    "model_uri = f'runs:/{run_id}/model'\n",
    "mlflow.register_model(model_uri=model_uri, name=model_name)"
   ]
  },
  {
   "cell_type": "markdown",
   "id": "4833bf43",
   "metadata": {},
   "source": [
    "#### Check http://127.0.0.1:5000/#/models/nyc-taxi-regressor to see the new model versions registered"
   ]
  },
  {
   "cell_type": "code",
   "execution_count": 31,
   "id": "a72a7af1",
   "metadata": {},
   "outputs": [
    {
     "name": "stderr",
     "output_type": "stream",
     "text": [
      "Registered model 'nyc-taxi-regressor' already exists. Creating a new version of this model...\n",
      "2023/05/28 20:11:34 INFO mlflow.tracking._model_registry.client: Waiting up to 300 seconds for model version to finish creation. Model name: nyc-taxi-regressor, version 4\n",
      "Created version '4' of model 'nyc-taxi-regressor'.\n"
     ]
    },
    {
     "data": {
      "text/plain": [
       "<ModelVersion: aliases=[], creation_timestamp=1685319094385, current_stage='None', description=None, last_updated_timestamp=1685319094385, name='nyc-taxi-regressor', run_id='445337b1adb94550ad6afc5e63987194', run_link=None, source='file:///C:/Users/nimz/Documents/mlops_zoomcamp/week2_experiment_tracking/mlruns/1/445337b1adb94550ad6afc5e63987194/artifacts/model', status='READY', status_message=None, tags={}, user_id=None, version=4>"
      ]
     },
     "execution_count": 31,
     "metadata": {},
     "output_type": "execute_result"
    }
   ],
   "source": [
    "# add that third one with the tied-for-lowest-RMSE\n",
    "# take one of the above run ID's, get that model (via its URI), and \n",
    "#   register it as an `nyc-taxi-regressor`\n",
    "model_name = 'nyc-taxi-regressor'\n",
    "run_id = '445337b1adb94550ad6afc5e63987194'\n",
    "model_uri = f'runs:/{run_id}/model'\n",
    "mlflow.register_model(model_uri=model_uri, name=model_name)"
   ]
  },
  {
   "cell_type": "code",
   "execution_count": 32,
   "id": "399ab147",
   "metadata": {},
   "outputs": [
    {
     "data": {
      "text/plain": [
       "<ModelVersion: aliases=[], creation_timestamp=1685319094385, current_stage='Staging', description=None, last_updated_timestamp=1685319147333, name='nyc-taxi-regressor', run_id='445337b1adb94550ad6afc5e63987194', run_link=None, source='file:///C:/Users/nimz/Documents/mlops_zoomcamp/week2_experiment_tracking/mlruns/1/445337b1adb94550ad6afc5e63987194/artifacts/model', status='READY', status_message=None, tags={}, user_id=None, version=4>"
      ]
     },
     "execution_count": 32,
     "metadata": {},
     "output_type": "execute_result"
    }
   ],
   "source": [
    "# move the initial model to Production and the other 3 to staging\n",
    "# select v1 of our model\n",
    "model_version = 1\n",
    "new_stage = \"Production\"\n",
    "\n",
    "# move the v1 model we just registered to Production\n",
    "client.transition_model_version_stage(\n",
    "    name=model_name,\n",
    "    version=model_version,\n",
    "    stage=new_stage,\n",
    "    archive_existing_versions=False\n",
    ")\n",
    "\n",
    "# select v2 of our model\n",
    "model_version = 2\n",
    "new_stage = \"Staging\"\n",
    "\n",
    "# move the v2 model we just registered to Staging\n",
    "client.transition_model_version_stage(\n",
    "    name=model_name,\n",
    "    version=model_version,\n",
    "    stage=new_stage,\n",
    "    archive_existing_versions=False\n",
    ")\n",
    "\n",
    "# select v3 of our model\n",
    "model_version = 3\n",
    "new_stage = \"Staging\"\n",
    "\n",
    "# move the v1 model we just registered to Staging\n",
    "client.transition_model_version_stage(\n",
    "    name=model_name,\n",
    "    version=model_version,\n",
    "    stage=new_stage,\n",
    "    archive_existing_versions=False\n",
    ")\n",
    "\n",
    "# select v4 of our model\n",
    "model_version = 4\n",
    "new_stage = \"Staging\"\n",
    "\n",
    "# move the v1 model we just registered to Staging\n",
    "client.transition_model_version_stage(\n",
    "    name=model_name,\n",
    "    version=model_version,\n",
    "    stage=new_stage,\n",
    "    archive_existing_versions=False\n",
    ")"
   ]
  },
  {
   "cell_type": "markdown",
   "id": "a2aad58b",
   "metadata": {},
   "source": [
    "#### Check http://127.0.0.1:5000/#/models/nyc-taxi-regressor to see that everything lines up. Then move on to creating the test set"
   ]
  },
  {
   "cell_type": "code",
   "execution_count": 100,
   "id": "5765b81e",
   "metadata": {},
   "outputs": [],
   "source": [
    "# set up functions to read and preprocess the test set\n",
    "def read_dataframe(filename):\n",
    "    df = pd.read_parquet(filename)\n",
    "\n",
    "    df.lpep_dropoff_datetime = pd.to_datetime(df.lpep_dropoff_datetime)\n",
    "    df.lpep_pickup_datetime = pd.to_datetime(df.lpep_pickup_datetime)\n",
    "\n",
    "    df['duration'] = df.lpep_dropoff_datetime - df.lpep_pickup_datetime\n",
    "    df.duration = df.duration.apply(lambda td: td.total_seconds() / 60)\n",
    "\n",
    "    df = df[(df.duration >= 1) & (df.duration <= 60)]\n",
    "\n",
    "    categorical = ['PULocationID', 'DOLocationID']\n",
    "    df[categorical] = df[categorical].astype(str)\n",
    "    \n",
    "    return df\n",
    "\n",
    "\n",
    "def preprocess(df, dv):\n",
    "    df['PU_DO'] = str(df['PULocationID']) + '_' + str(df['DOLocationID'])\n",
    "    \n",
    "    categorical = ['PU_DO']\n",
    "    numerical = ['trip_distance']\n",
    "    \n",
    "    train_dicts = df[categorical + numerical].to_dict(orient='records')\n",
    "    \n",
    "    return dv.transform(train_dicts)\n",
    "\n",
    "\n",
    "def test_model(name, stage, X_test, y_test):\n",
    "    print(f'MODEL NAME: {name}')\n",
    "    model = mlflow.pyfunc.load_model(f\"models:/{name}/{stage}\")\n",
    "    y_pred = model.predict(X_test)\n",
    "    \n",
    "    return {\"rmse\": mean_squared_error(y_test, y_pred, squared=False)}"
   ]
  },
  {
   "cell_type": "code",
   "execution_count": 34,
   "id": "187671ed",
   "metadata": {},
   "outputs": [
    {
     "name": "stderr",
     "output_type": "stream",
     "text": [
      "--2023-05-28 20:13:17--  https://d37ci6vzurychx.cloudfront.net/trip-data/green_tripdata_2021-03.parquet\n",
      "Resolving d37ci6vzurychx.cloudfront.net (d37ci6vzurychx.cloudfront.net)... 18.238.11.82, 18.238.11.65, 18.238.11.110, ...\n",
      "Connecting to d37ci6vzurychx.cloudfront.net (d37ci6vzurychx.cloudfront.net)|18.238.11.82|:443... connected.\n",
      "HTTP request sent, awaiting response... 200 OK\n",
      "Length: 1474538 (1.4M) [binary/octet-stream]\n",
      "Saving to: './data/green_tripdata_2021-03.parquet'\n",
      "\n",
      "     0K .......... .......... .......... .......... ..........  3% 6.77M 0s\n",
      "    50K .......... .......... .......... .......... ..........  6% 8.97M 0s\n",
      "   100K .......... .......... .......... .......... .......... 10% 7.92M 0s\n",
      "   150K .......... .......... .......... .......... .......... 13% 14.2M 0s\n",
      "   200K .......... .......... .......... .......... .......... 17% 8.78M 0s\n",
      "   250K .......... .......... .......... .......... .......... 20% 8.50M 0s\n",
      "   300K .......... .......... .......... .......... .......... 24% 13.1M 0s\n",
      "   350K .......... .......... .......... .......... .......... 27% 11.8M 0s\n",
      "   400K .......... .......... .......... .......... .......... 31% 18.3M 0s\n",
      "   450K .......... .......... .......... .......... .......... 34% 10.8M 0s\n",
      "   500K .......... .......... .......... .......... .......... 38% 11.7M 0s\n",
      "   550K .......... .......... .......... .......... .......... 41% 13.0M 0s\n",
      "   600K .......... .......... .......... .......... .......... 45% 13.8M 0s\n",
      "   650K .......... .......... .......... .......... .......... 48% 22.2M 0s\n",
      "   700K .......... .......... .......... .......... .......... 52% 14.7M 0s\n",
      "   750K .......... .......... .......... .......... .......... 55% 10.8M 0s\n",
      "   800K .......... .......... .......... .......... .......... 59% 26.2M 0s\n",
      "   850K .......... .......... .......... .......... .......... 62% 12.1M 0s\n",
      "   900K .......... .......... .......... .......... .......... 65% 16.0M 0s\n",
      "   950K .......... .......... .......... .......... .......... 69% 12.5M 0s\n",
      "  1000K .......... .......... .......... .......... .......... 72% 12.9M 0s\n",
      "  1050K .......... .......... .......... .......... .......... 76% 19.9M 0s\n",
      "  1100K .......... .......... .......... .......... .......... 79% 15.4M 0s\n",
      "  1150K .......... .......... .......... .......... .......... 83% 19.1M 0s\n",
      "  1200K .......... .......... .......... .......... .......... 86% 32.2M 0s\n",
      "  1250K .......... .......... .......... .......... .......... 90% 13.4M 0s\n",
      "  1300K .......... .......... .......... .......... .......... 93% 15.0M 0s\n",
      "  1350K .......... .......... .......... .......... .......... 97% 15.6M 0s\n",
      "  1400K .......... .......... .......... .........            100% 59.4M=0.1s\n",
      "\n",
      "2023-05-28 20:13:18 (13.1 MB/s) - './data/green_tripdata_2021-03.parquet' saved [1474538/1474538]\n",
      "\n"
     ]
    }
   ],
   "source": [
    "# get the data\n",
    "# Make the directory to hold the data if it doesn't exist\n",
    "# https://www.tutorialspoint.com/python/os_makedirs.htm\n",
    "os.makedirs(os.path.dirname('./data/'), mode=0o755, exist_ok=True)\n",
    "\n",
    "# remove files if they are already there, then get files\n",
    "# !rm ./data/green_tripdata_2021-03.parquet\n",
    "\n",
    "# windows\n",
    "# https://www.freecodecamp.org/news/how-to-check-if-a-file-exists-in-python/\n",
    "if os.path.isfile('./data/green_tripdata_2021-03.parquet'):\n",
    "    os.remove(\"./data/green_tripdata_2021-03.parquet\")\n",
    "\n",
    "!wget https://d37ci6vzurychx.cloudfront.net/trip-data/green_tripdata_2021-03.parquet -P ./data"
   ]
  },
  {
   "cell_type": "code",
   "execution_count": 54,
   "id": "f422693e",
   "metadata": {},
   "outputs": [],
   "source": [
    "# read in the data parquet file\n",
    "df = read_dataframe('./data/green_tripdata_2021-03.parquet')\n",
    "# df.columns"
   ]
  },
  {
   "cell_type": "code",
   "execution_count": 85,
   "id": "55783b78",
   "metadata": {
    "scrolled": true
   },
   "outputs": [
    {
     "name": "stderr",
     "output_type": "stream",
     "text": [
      "C:\\Users\\nimz\\AppData\\Local\\Temp\\ipykernel_13384\\1907145448.py:4: FutureWarning: ``mlflow.tracking.client.MlflowClient.download_artifacts`` is deprecated since 2.0. This method will be removed in a future release. Use ``mlflow.artifacts.download_artifacts`` instead.\n",
      "  client.download_artifacts(run_id=run_id, path='preprocessor', dst_path='.')\n"
     ]
    },
    {
     "data": {
      "text/plain": [
       "'C:\\\\Users\\\\nimz\\\\Documents\\\\mlops_zoomcamp\\\\week2_experiment_tracking\\\\preprocessor'"
      ]
     },
     "execution_count": 85,
     "metadata": {},
     "output_type": "execute_result"
    }
   ],
   "source": [
    "# get the preprocessor from the best run\n",
    "run_id = 'd4535c4d635f4305940cfbd71b0eb91a'\n",
    "\n",
    "client.download_artifacts(run_id=run_id, path='preprocessor', dst_path='.')"
   ]
  },
  {
   "cell_type": "code",
   "execution_count": 56,
   "id": "56be1988",
   "metadata": {},
   "outputs": [],
   "source": [
    "# load in the preprocessor\n",
    "with open(\"preprocessor/preprocessor.b\", \"rb\") as f_in:\n",
    "    dv = pickle.load(f_in)\n",
    "    \n",
    "# preprocess the test data\n",
    "X_test = preprocess(df, dv)\n",
    "\n",
    "# set up the labels\n",
    "target = \"duration\"\n",
    "y_test = df[target].values"
   ]
  },
  {
   "cell_type": "code",
   "execution_count": 99,
   "id": "84fc73b3",
   "metadata": {
    "scrolled": false
   },
   "outputs": [
    {
     "name": "stdout",
     "output_type": "stream",
     "text": [
      "MODEL NAME: nyc-taxi-regressor\n"
     ]
    },
    {
     "ename": "OSError",
     "evalue": "No such file or directory: 'W:\\nyc-taxi-regressor\\Production'",
     "output_type": "error",
     "traceback": [
      "\u001b[1;31m---------------------------------------------------------------------------\u001b[0m",
      "\u001b[1;31mOSError\u001b[0m                                   Traceback (most recent call last)",
      "File \u001b[1;32m<timed eval>:1\u001b[0m\n",
      "Cell \u001b[1;32mIn[98], line 32\u001b[0m, in \u001b[0;36mtest_model\u001b[1;34m(name, stage, X_test, y_test)\u001b[0m\n\u001b[0;32m     30\u001b[0m \u001b[38;5;28;01mdef\u001b[39;00m \u001b[38;5;21mtest_model\u001b[39m(name, stage, X_test, y_test):\n\u001b[0;32m     31\u001b[0m     \u001b[38;5;28mprint\u001b[39m(\u001b[38;5;124mf\u001b[39m\u001b[38;5;124m'\u001b[39m\u001b[38;5;124mMODEL NAME: \u001b[39m\u001b[38;5;132;01m{\u001b[39;00mname\u001b[38;5;132;01m}\u001b[39;00m\u001b[38;5;124m'\u001b[39m)\n\u001b[1;32m---> 32\u001b[0m     model \u001b[38;5;241m=\u001b[39m \u001b[43mmlflow\u001b[49m\u001b[38;5;241;43m.\u001b[39;49m\u001b[43mpyfunc\u001b[49m\u001b[38;5;241;43m.\u001b[39;49m\u001b[43mload_model\u001b[49m\u001b[43m(\u001b[49m\u001b[38;5;124;43mf\u001b[39;49m\u001b[38;5;124;43m\"\u001b[39;49m\u001b[38;5;124;43mmodels_mlflow:/\u001b[39;49m\u001b[38;5;132;43;01m{\u001b[39;49;00m\u001b[43mname\u001b[49m\u001b[38;5;132;43;01m}\u001b[39;49;00m\u001b[38;5;124;43m/\u001b[39;49m\u001b[38;5;132;43;01m{\u001b[39;49;00m\u001b[43mstage\u001b[49m\u001b[38;5;132;43;01m}\u001b[39;49;00m\u001b[38;5;124;43m\"\u001b[39;49m\u001b[43m)\u001b[49m\n\u001b[0;32m     33\u001b[0m     y_pred \u001b[38;5;241m=\u001b[39m model\u001b[38;5;241m.\u001b[39mpredict(X_test)\n\u001b[0;32m     35\u001b[0m     \u001b[38;5;28;01mreturn\u001b[39;00m {\u001b[38;5;124m\"\u001b[39m\u001b[38;5;124mrmse\u001b[39m\u001b[38;5;124m\"\u001b[39m: mean_squared_error(y_test, y_pred, squared\u001b[38;5;241m=\u001b[39m\u001b[38;5;28;01mFalse\u001b[39;00m)}\n",
      "File \u001b[1;32m~\\.conda\\envs\\zoom\\lib\\site-packages\\mlflow\\pyfunc\\__init__.py:577\u001b[0m, in \u001b[0;36mload_model\u001b[1;34m(model_uri, suppress_warnings, dst_path)\u001b[0m\n\u001b[0;32m    549\u001b[0m \u001b[38;5;28;01mdef\u001b[39;00m \u001b[38;5;21mload_model\u001b[39m(\n\u001b[0;32m    550\u001b[0m     model_uri: \u001b[38;5;28mstr\u001b[39m,\n\u001b[0;32m    551\u001b[0m     suppress_warnings: \u001b[38;5;28mbool\u001b[39m \u001b[38;5;241m=\u001b[39m \u001b[38;5;28;01mFalse\u001b[39;00m,\n\u001b[0;32m    552\u001b[0m     dst_path: \u001b[38;5;28mstr\u001b[39m \u001b[38;5;241m=\u001b[39m \u001b[38;5;28;01mNone\u001b[39;00m,\n\u001b[0;32m    553\u001b[0m ) \u001b[38;5;241m-\u001b[39m\u001b[38;5;241m>\u001b[39m PyFuncModel:\n\u001b[0;32m    554\u001b[0m     \u001b[38;5;124;03m\"\"\"\u001b[39;00m\n\u001b[0;32m    555\u001b[0m \u001b[38;5;124;03m    Load a model stored in Python function format.\u001b[39;00m\n\u001b[0;32m    556\u001b[0m \n\u001b[1;32m   (...)\u001b[0m\n\u001b[0;32m    575\u001b[0m \u001b[38;5;124;03m                     path will be created.\u001b[39;00m\n\u001b[0;32m    576\u001b[0m \u001b[38;5;124;03m    \"\"\"\u001b[39;00m\n\u001b[1;32m--> 577\u001b[0m     local_path \u001b[38;5;241m=\u001b[39m \u001b[43m_download_artifact_from_uri\u001b[49m\u001b[43m(\u001b[49m\u001b[43martifact_uri\u001b[49m\u001b[38;5;241;43m=\u001b[39;49m\u001b[43mmodel_uri\u001b[49m\u001b[43m,\u001b[49m\u001b[43m \u001b[49m\u001b[43moutput_path\u001b[49m\u001b[38;5;241;43m=\u001b[39;49m\u001b[43mdst_path\u001b[49m\u001b[43m)\u001b[49m\n\u001b[0;32m    579\u001b[0m     \u001b[38;5;28;01mif\u001b[39;00m \u001b[38;5;129;01mnot\u001b[39;00m suppress_warnings:\n\u001b[0;32m    580\u001b[0m         _warn_dependency_requirement_mismatches(local_path)\n",
      "File \u001b[1;32m~\\.conda\\envs\\zoom\\lib\\site-packages\\mlflow\\tracking\\artifact_utils.py:100\u001b[0m, in \u001b[0;36m_download_artifact_from_uri\u001b[1;34m(artifact_uri, output_path)\u001b[0m\n\u001b[0;32m     94\u001b[0m \u001b[38;5;124;03m\"\"\"\u001b[39;00m\n\u001b[0;32m     95\u001b[0m \u001b[38;5;124;03m:param artifact_uri: The *absolute* URI of the artifact to download.\u001b[39;00m\n\u001b[0;32m     96\u001b[0m \u001b[38;5;124;03m:param output_path: The local filesystem path to which to download the artifact. If unspecified,\u001b[39;00m\n\u001b[0;32m     97\u001b[0m \u001b[38;5;124;03m                    a local output path will be created.\u001b[39;00m\n\u001b[0;32m     98\u001b[0m \u001b[38;5;124;03m\"\"\"\u001b[39;00m\n\u001b[0;32m     99\u001b[0m root_uri, artifact_path \u001b[38;5;241m=\u001b[39m _get_root_uri_and_artifact_path(artifact_uri)\n\u001b[1;32m--> 100\u001b[0m \u001b[38;5;28;01mreturn\u001b[39;00m \u001b[43mget_artifact_repository\u001b[49m\u001b[43m(\u001b[49m\u001b[43martifact_uri\u001b[49m\u001b[38;5;241;43m=\u001b[39;49m\u001b[43mroot_uri\u001b[49m\u001b[43m)\u001b[49m\u001b[38;5;241;43m.\u001b[39;49m\u001b[43mdownload_artifacts\u001b[49m\u001b[43m(\u001b[49m\n\u001b[0;32m    101\u001b[0m \u001b[43m    \u001b[49m\u001b[43martifact_path\u001b[49m\u001b[38;5;241;43m=\u001b[39;49m\u001b[43martifact_path\u001b[49m\u001b[43m,\u001b[49m\u001b[43m \u001b[49m\u001b[43mdst_path\u001b[49m\u001b[38;5;241;43m=\u001b[39;49m\u001b[43moutput_path\u001b[49m\n\u001b[0;32m    102\u001b[0m \u001b[43m\u001b[49m\u001b[43m)\u001b[49m\n",
      "File \u001b[1;32m~\\.conda\\envs\\zoom\\lib\\site-packages\\mlflow\\store\\artifact\\local_artifact_repo.py:79\u001b[0m, in \u001b[0;36mLocalArtifactRepository.download_artifacts\u001b[1;34m(self, artifact_path, dst_path)\u001b[0m\n\u001b[0;32m     77\u001b[0m local_artifact_path \u001b[38;5;241m=\u001b[39m os\u001b[38;5;241m.\u001b[39mpath\u001b[38;5;241m.\u001b[39mjoin(\u001b[38;5;28mself\u001b[39m\u001b[38;5;241m.\u001b[39martifact_dir, os\u001b[38;5;241m.\u001b[39mpath\u001b[38;5;241m.\u001b[39mnormpath(artifact_path))\n\u001b[0;32m     78\u001b[0m \u001b[38;5;28;01mif\u001b[39;00m \u001b[38;5;129;01mnot\u001b[39;00m os\u001b[38;5;241m.\u001b[39mpath\u001b[38;5;241m.\u001b[39mexists(local_artifact_path):\n\u001b[1;32m---> 79\u001b[0m     \u001b[38;5;28;01mraise\u001b[39;00m \u001b[38;5;167;01mOSError\u001b[39;00m(\u001b[38;5;124mf\u001b[39m\u001b[38;5;124m\"\u001b[39m\u001b[38;5;124mNo such file or directory: \u001b[39m\u001b[38;5;124m'\u001b[39m\u001b[38;5;132;01m{\u001b[39;00mlocal_artifact_path\u001b[38;5;132;01m}\u001b[39;00m\u001b[38;5;124m'\u001b[39m\u001b[38;5;124m\"\u001b[39m)\n\u001b[0;32m     80\u001b[0m \u001b[38;5;28;01mreturn\u001b[39;00m os\u001b[38;5;241m.\u001b[39mpath\u001b[38;5;241m.\u001b[39mabspath(local_artifact_path)\n",
      "\u001b[1;31mOSError\u001b[0m: No such file or directory: 'W:\\nyc-taxi-regressor\\Production'"
     ]
    }
   ],
   "source": [
    "# run the model in PROD on the test set and see how long it takes\n",
    "%time test_model(name=model_name, stage=\"Production\", X_test=X_test, y_test=y_test)\n",
    "\n",
    "# mlflow.pyfunc.load_model(model_uri: str, suppress_warnings: bool = False, dst_path: Optional[str] = None) \n",
    "\n",
    "# from mlflow.tracking.artifact_utils import _download_artifact_from_uri\n",
    "\n",
    "# def _download_artifact_from_uri(artifact_uri, output_path=None):\n",
    "#     \"\"\"\n",
    "#     :param artifact_uri: The *absolute* URI of the artifact to download.\n",
    "#     :param output_path: The local filesystem path to which to download the artifact. If unspecified,\n",
    "#                         a local output path will be created.\n",
    "#     \"\"\"\n",
    "#     root_uri, artifact_path = _get_root_uri_and_artifact_path(artifact_uri)\n",
    "#     return get_artifact_repository(artifact_uri=root_uri).download_artifacts(\n",
    "#         artifact_path=artifact_path, dst_path=output_path\n",
    "#     )"
   ]
  },
  {
   "cell_type": "code",
   "execution_count": 107,
   "id": "e1ec611c",
   "metadata": {},
   "outputs": [
    {
     "name": "stderr",
     "output_type": "stream",
     "text": [
      "Registered model 'nyc-taxi-regressor' already exists. Creating a new version of this model...\n",
      "2023/05/31 17:18:53 INFO mlflow.tracking._model_registry.client: Waiting up to 300 seconds for model version to finish creation. Model name: nyc-taxi-regressor, version 5\n",
      "Created version '5' of model 'nyc-taxi-regressor'.\n"
     ]
    },
    {
     "data": {
      "text/plain": [
       "<ModelVersion: aliases=[], creation_timestamp=1685567933583, current_stage='None', description=None, last_updated_timestamp=1685567933583, name='nyc-taxi-regressor', run_id='03232258e2574763aeec2e8c6e6b36d9', run_link=None, source='file:///C:/Users/nimz/Documents/mlops_zoomcamp/week2_experiment_tracking/mlruns/1/03232258e2574763aeec2e8c6e6b36d9/artifacts/model', status='READY', status_message=None, tags={}, user_id=None, version=5>"
      ]
     },
     "execution_count": 107,
     "metadata": {},
     "output_type": "execute_result"
    }
   ],
   "source": [
    "model_name = 'nyc-taxi-regressor'\n",
    "run_id = '03232258e2574763aeec2e8c6e6b36d9'\n",
    "model_uri = f'runs:/{run_id}/model'\n",
    "mlflow.register_model(model_uri=model_uri, name=model_name)"
   ]
  },
  {
   "cell_type": "code",
   "execution_count": 108,
   "id": "c28570b3",
   "metadata": {},
   "outputs": [
    {
     "data": {
      "text/plain": [
       "<ModelVersion: aliases=[], creation_timestamp=1685567933583, current_stage='Production', description=None, last_updated_timestamp=1685567953625, name='nyc-taxi-regressor', run_id='03232258e2574763aeec2e8c6e6b36d9', run_link=None, source='file:///C:/Users/nimz/Documents/mlops_zoomcamp/week2_experiment_tracking/mlruns/1/03232258e2574763aeec2e8c6e6b36d9/artifacts/model', status='READY', status_message=None, tags={}, user_id=None, version=5>"
      ]
     },
     "execution_count": 108,
     "metadata": {},
     "output_type": "execute_result"
    }
   ],
   "source": [
    "# try the above on the next-best model, something about the directory on the best one is off\n",
    "\n",
    "# archive the current one in the UI\n",
    "\n",
    "# move v4 to Prod\n",
    "model_version = 5\n",
    "new_stage = \"\"\n",
    "\n",
    "# move the v1 model we just registered to Staging\n",
    "client.transition_model_version_stage(\n",
    "    name=model_name,\n",
    "    version=model_version,\n",
    "    stage=new_stage,\n",
    "    archive_existing_versions=True\n",
    ")"
   ]
  },
  {
   "cell_type": "code",
   "execution_count": 109,
   "id": "232ca934",
   "metadata": {},
   "outputs": [
    {
     "name": "stderr",
     "output_type": "stream",
     "text": [
      "C:\\Users\\nimz\\AppData\\Local\\Temp\\ipykernel_13384\\3156566708.py:4: FutureWarning: ``mlflow.tracking.client.MlflowClient.download_artifacts`` is deprecated since 2.0. This method will be removed in a future release. Use ``mlflow.artifacts.download_artifacts`` instead.\n",
      "  client.download_artifacts(run_id=run_id, path='preprocessor', dst_path='.')\n"
     ]
    }
   ],
   "source": [
    "# get the preprocessor from the best run\n",
    "run_id = '03232258e2574763aeec2e8c6e6b36d9'\n",
    "\n",
    "client.download_artifacts(run_id=run_id, path='preprocessor', dst_path='.')\n",
    "\n",
    "# load in the preprocessor\n",
    "with open(\"preprocessor/preprocessor.b\", \"rb\") as f_in:\n",
    "    dv = pickle.load(f_in)\n",
    "    \n",
    "# preprocess the test data\n",
    "X_test = preprocess(df, dv)\n",
    "\n",
    "# set up the labels\n",
    "target = \"duration\"\n",
    "y_test = df[target].values"
   ]
  },
  {
   "cell_type": "code",
   "execution_count": 110,
   "id": "37ff6577",
   "metadata": {},
   "outputs": [
    {
     "name": "stdout",
     "output_type": "stream",
     "text": [
      "MODEL NAME: nyc-taxi-regressor\n"
     ]
    },
    {
     "name": "stderr",
     "output_type": "stream",
     "text": [
      "2023/05/31 17:19:33 WARNING mlflow.pyfunc: Detected one or more mismatches between the model's dependencies and the current Python environment:\n",
      " - mlflow (current: 2.3.2, required: mlflow==2.3)\n",
      "To fix the mismatches, call `mlflow.pyfunc.get_model_dependencies(model_uri)` to fetch the model's environment and install dependencies using the resulting environment file.\n"
     ]
    },
    {
     "name": "stdout",
     "output_type": "stream",
     "text": [
      "CPU times: total: 500 ms\n",
      "Wall time: 2.81 s\n"
     ]
    },
    {
     "data": {
      "text/plain": [
       "{'rmse': 6.733905988481068}"
      ]
     },
     "execution_count": 110,
     "metadata": {},
     "output_type": "execute_result"
    }
   ],
   "source": [
    "# run the model in PROD on the test set and see how long it takes\n",
    "%time test_model(name=model_name, stage=\"Production\", X_test=X_test, y_test=y_test)"
   ]
  },
  {
   "cell_type": "code",
   "execution_count": 112,
   "id": "6420b9e9",
   "metadata": {},
   "outputs": [],
   "source": [
    "# # run the model in STAGING on the test set and see how long it takes\n",
    "# %time test_model(name=model_name, stage=\"Staging\", X_test=X_test, y_test=y_test)"
   ]
  },
  {
   "cell_type": "code",
   "execution_count": 113,
   "id": "c5e53b8c",
   "metadata": {},
   "outputs": [],
   "source": [
    "# client.transition_model_version_stage(\n",
    "#     name=model_name,\n",
    "#     version=4,\n",
    "#     stage=\"Production\",\n",
    "#     archive_existing_versions=True\n",
    "# )"
   ]
  }
 ],
 "metadata": {
  "kernelspec": {
   "display_name": "Python [conda env:.conda-zoom]",
   "language": "python",
   "name": "conda-env-.conda-zoom-py"
  },
  "language_info": {
   "codemirror_mode": {
    "name": "ipython",
    "version": 3
   },
   "file_extension": ".py",
   "mimetype": "text/x-python",
   "name": "python",
   "nbconvert_exporter": "python",
   "pygments_lexer": "ipython3",
   "version": "3.9.16"
  }
 },
 "nbformat": 4,
 "nbformat_minor": 5
}
